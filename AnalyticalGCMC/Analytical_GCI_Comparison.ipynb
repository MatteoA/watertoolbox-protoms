{
 "cells": [
  {
   "cell_type": "code",
   "execution_count": 1,
   "metadata": {
    "collapsed": false
   },
   "outputs": [],
   "source": [
    "import sys, os\n",
    "protomshome = os.environ[\"PROTOMSHOME\"]\n",
    "sys.path.append(protomshome +\"/tools\")\n",
    "import calc_gci as cg\n",
    "\n",
    "import numpy as np\n",
    "import matplotlib.pyplot as plt\n",
    "from IPython.display import Image\n",
    "%matplotlib inline"
   ]
  },
  {
   "cell_type": "markdown",
   "metadata": {},
   "source": [
    "# Comparison of analytical GCMC free energies with GCI\n",
    "\n",
    "If the excess free energies to insert $N$ particles into a system are known for all $N$, the average number of particles for a give Adams value $B$ is given by\n",
    "\n",
    "\n",
    "$$\\langle N \\rangle(B) = \\frac{\\sum_{N=0}^\\infty N\\exp(NB - F_\\text{ex}(N)\\beta  - \\ln(N!))}{\\sum_{N=0}^\\infty \\exp(NB - F_\\text{ex}(N)\\beta  - \\ln(N!))}$$\n",
    "\n",
    "Where $F_\\text{ex}(N)$ is the excess free energy to insert $N$ particles.\n",
    "\n",
    "The grand canonical integration (GCI) equation relates the area under $\\langle N \\rangle(B)$ to differences in the excess free energies:\n",
    "\n",
    "$$\\beta(F_\\text{trans}(N_f) - F_\\text{trans}(N_i))  =  \\langle N_f \\rangle B_f -  \\langle N_i\\rangle B_i + \\ln \\left(\\frac{\\langle N_i \\rangle !}{ \\langle N_f\\rangle !}\\right) - \\int_{B_i}^{B_f}  \\langle N(B) \\rangle d B$$\n",
    "\n",
    "This notebook compares the free energies calculated with GCI to the free energies in $\\langle N \\rangle(B)$ for analytical systems that can bind mutliple particles. Excellent numerical agreement is found between both equations. This supports the notion that the GCI equation correctly calculates excess free energies for many body systems."
   ]
  },
  {
   "cell_type": "markdown",
   "metadata": {},
   "source": [
    "First defining the functions necessary for the numerical comparison:"
   ]
  },
  {
   "cell_type": "code",
   "execution_count": 2,
   "metadata": {
    "collapsed": false
   },
   "outputs": [],
   "source": [
    "from scipy import integrate\n",
    "from scipy import special\n",
    "from scipy import interpolate\n",
    "\n",
    "def gci(B, N, kT=0.592):\n",
    "    \"\"\"\n",
    "    Calculates the insertion free energy using grand canonical integration for an \n",
    "    input titration curve.\n",
    "\n",
    "    Parameters\n",
    "    ----------\n",
    "    B : numpy array\n",
    "      Adams values\n",
    "    N : numpy array\n",
    "      The average number of particles at a given B\n",
    "    kT : float\n",
    "      the thermal energy\n",
    "\n",
    "    Returns\n",
    "    -------\n",
    "    F : float\n",
    "      relative ideal gas transfer free energies\n",
    "    \"\"\"\n",
    "    def nonintegral(N,B):\n",
    "        return N*B - special.gammaln(N+1)\n",
    "    \n",
    "    def nonintegral_sterling(N,B):\n",
    "        return N*B - N*(np.log(N)-1)\n",
    "    \n",
    "    titration = interpolate.interp1d(B, N, kind='cubic')\n",
    "    \n",
    "    #F = (nonintegral_sterling(N[-1],B[-1]) - nonintegral_sterling(N[0],B[0]) - integrate.quad(titration,a=B[0],b=B[-1])[0])\n",
    "    F = (nonintegral(N[-1],B[-1]) - nonintegral(N[0],B[0]) - integrate.quad(titration,a=B[0],b=B[-1])[0])\n",
    "    F = F*kT\n",
    "    return F\n",
    "\n",
    "\n",
    "def N_onesite(B, F,kT=0.592):\n",
    "    \"\"\"\n",
    "    Titration curve for a system that can bind only one particle.\n",
    "\n",
    "    Parameters\n",
    "    ----------\n",
    "    B  : numpy array\n",
    "      Adams values over which the average number of particles will be calculated\n",
    "    F : float\n",
    "      excess free energy to add particle to system\n",
    "    kT : float\n",
    "      the thermal energy\n",
    "\n",
    "    Returns\n",
    "    -------\n",
    "    N : numpy array\n",
    "      the average number of particles as a function of B\n",
    "    \"\"\"\n",
    "    return 1.0/(1 + np.exp(F/kT - B) \n",
    "               )\n",
    "def N_twosite(B,F1,F2,kT=0.592):\n",
    "    \"\"\"\n",
    "    Titration curve for a system that can bind only 2 particles. The free energy to insert all particles is given by \n",
    "    the sum over the free energies to insert each individual particle\n",
    "\n",
    "    Parameters\n",
    "    ----------\n",
    "    B  : numpy array\n",
    "      Adams values over which the average number of particles will be calculated\n",
    "    F1 : float\n",
    "      excess free energy to add the first particle to system\n",
    "    F2 : float\n",
    "      excess free energy to add the second particle to system\n",
    "    kT : float\n",
    "      the thermal energy\n",
    "\n",
    "    Returns\n",
    "    -------\n",
    "    N : numpy array\n",
    "      the average number of particles as a function of B\n",
    "    \"\"\"\n",
    "    numerator = np.exp(B - F1/kT) + 2*np.exp(2*B - (F1 + F2)/kT - np.log(2))\n",
    "    denominator = 1 + np.exp(B - F1/kT) + np.exp(2*B - (F1 + F2)/kT - np.log(2))\n",
    "    return numerator/denominator\n",
    "\n",
    "def N_threesite(B,F1,F2,F3,kT=0.592):\n",
    "    \"\"\"\n",
    "    Titration curve for a system that can bind only 2 particles. The free energy to insert all particles is given by \n",
    "    the sum over the free energies to insert each individual particle\n",
    "\n",
    "    Parameters\n",
    "    ----------\n",
    "    B  : numpy array\n",
    "      Adams values over which the average number of particles will be calculated\n",
    "    F1 : float\n",
    "      excess free energy to add the first particle to system\n",
    "    F2 : float\n",
    "      excess free energy to add the second particle to system\n",
    "    F3 : float\n",
    "      excess free energy to add the third particle to system\n",
    "    kT : float\n",
    "      the thermal energy\n",
    "\n",
    "    Returns\n",
    "    -------\n",
    "    N : numpy array\n",
    "      the average number of particles as a function of B\n",
    "    \"\"\"\n",
    "    numerator = np.exp(B - F1/kT) + 2*np.exp(2*B - (F1 + F2)/kT - np.log(2)) + 3*np.exp(3*B - (F1 + F2 + F3)/kT - np.log(6)) \n",
    "    denominator = 1 + np.exp(B - F1/kT) + np.exp(2*B - (F1 + F2)/kT - np.log(2)) + np.exp(3*B - (F1 + F2 + F3)/kT - np.log(6)) \n",
    "    return numerator/denominator\n",
    "\n",
    "def N_foursite(B,F1,F2,F3,F4,kT=0.592):\n",
    "    \"\"\"\n",
    "    Titration curve for a system that can bind only 2 particles. The free energy to insert all particles is given by \n",
    "    the sum over the free energies to insert each individual particle\n",
    "\n",
    "    Parameters\n",
    "    ----------\n",
    "    B  : numpy array\n",
    "      Adams values over which the average number of particles will be calculated\n",
    "    F1 : float\n",
    "      excess free energy to add the first particle to system\n",
    "    F2 : float\n",
    "      excess free energy to add the second particle to system\n",
    "    F3 : float\n",
    "      excess free energy to add the third particle to system\n",
    "    F4 : float\n",
    "      excess free energy to add the fourth particle to system\n",
    "    kT : float\n",
    "      the thermal energy\n",
    "\n",
    "    Returns\n",
    "    -------\n",
    "    N : numpy array\n",
    "      the average number of particles as a function of B\n",
    "    \"\"\"\n",
    "    numerator = np.exp(B - F1/kT) + 2*np.exp(2*B - (F1 + F2)/kT - np.log(2)) + 3*np.exp(3*B - (F1 + F2 + F3)/kT - np.log(6)) + 4*np.exp(4*B - (F1 + F2 + F3 + F4)/kT - np.log(24)) \n",
    "    denominator = 1 + np.exp(B - F1/kT) + np.exp(2*B - (F1 + F2)/kT - np.log(2)) + np.exp(3*B - (F1 + F2 + F3)/kT - np.log(6)) + np.exp(4*B - (F1 + F2 + F3 + F4)/kT - np.log(24)) \n",
    "    return numerator/denominator\n",
    "\n",
    "def N_nsite(B,nsites,F,kT=0.592):\n",
    "    \"\"\"\n",
    "    Titration curve for a system that can bind a number particles. The free energy to insert all particles is given by \n",
    "    the sum over the free energies to insert each individual particle\n",
    "\n",
    "    Parameters\n",
    "    ----------\n",
    "    B  : numpy array\n",
    "      Adams values over which the average number of particles will be calculated\n",
    "    nsites  : int\n",
    "      the number of sites to consider\n",
    "    F  : list\n",
    "      free energies to insert each individual particle\n",
    "    kT : float\n",
    "      the thermal energy\n",
    "\n",
    "    Returns\n",
    "    -------\n",
    "    N : numpy array\n",
    "      the average number of particles as a function of B\n",
    "    \"\"\"\n",
    "    F_sum = np.cumsum(F)/kT\n",
    "    if nsites != len(F):\n",
    "        print 'Number of sites (nsites) must equal the number of site specific free energies'\n",
    "        pass\n",
    "    integers = np.arange(start=1,stop=nsites+1)\n",
    "    lnfactorials = special.gammaln(integers+1)\n",
    "    N = np.zeros(len(B))\n",
    "    for i in range(len(B)):\n",
    "        numerator = np.sum(integers*np.exp(integers*B[i] - F_sum - lnfactorials))\n",
    "        denominator = 1 + np.sum(np.exp(integers*B[i] - F_sum - lnfactorials)) \n",
    "        N[i] = numerator/denominator\n",
    "    return N"
   ]
  },
  {
   "cell_type": "markdown",
   "metadata": {},
   "source": [
    "Testing the consistency of the individual titration curve functions for one site, two sites, three sites, and four sites to the general function for any number of sites (`N_site`):"
   ]
  },
  {
   "cell_type": "code",
   "execution_count": 3,
   "metadata": {
    "collapsed": false
   },
   "outputs": [
    {
     "name": "stdout",
     "output_type": "stream",
     "text": [
      "1.48733713295e-31\n",
      "6.16373989337e-33\n",
      "3.14167322178e-33\n",
      "3.14167322178e-33\n"
     ]
    }
   ],
   "source": [
    "B = np.linspace(-50,-0,50) \n",
    "\n",
    "\n",
    "F = [-15]\n",
    "print np.sum((N_nsite(B,1,F) - N_onesite(B,F[0]))**2)\n",
    "\n",
    "F = [-10,-3]\n",
    "print np.sum((N_nsite(B,2,F) - N_twosite(B,F[0],F[1]))**2)\n",
    "\n",
    "F = [-15,-5,-2]\n",
    "print np.sum( (N_nsite(B,3,F) - N_threesite(B,F[0],F[1],F[2]))**2)\n",
    "\n",
    "F = [-15,-5,-2,-10]\n",
    "print np.sum( (N_nsite(B,4,F) - N_foursite(B,F[0],F[1],F[2],F[3]))**2)"
   ]
  },
  {
   "cell_type": "markdown",
   "metadata": {},
   "source": [
    "General function `N_site()` expression matches the individual titration curves functions.\n",
    "\n",
    "Moving on to comparisons to GCI:"
   ]
  },
  {
   "cell_type": "markdown",
   "metadata": {},
   "source": [
    "## Single site"
   ]
  },
  {
   "cell_type": "code",
   "execution_count": 4,
   "metadata": {
    "collapsed": false
   },
   "outputs": [
    {
     "data": {
      "image/png": "[encoded data removed]",
      "text/plain": [
       "<matplotlib.figure.Figure at 0x10fa315d0>"
      ]
     },
     "metadata": {},
     "output_type": "display_data"
    }
   ],
   "source": [
    "F = -10\n",
    "B = np.linspace(-50,-0,50) \n",
    "N = N_onesite(B,F)\n",
    "\n",
    "plt.plot(B,N,linewidth=2)\n",
    "plt.xlabel('Adams value')\n",
    "plt.ylabel('Average N')\n",
    "plt.show()"
   ]
  },
  {
   "cell_type": "code",
   "execution_count": 5,
   "metadata": {
    "collapsed": false
   },
   "outputs": [
    {
     "name": "stdout",
     "output_type": "stream",
     "text": [
      "Total analytical free energy = -10 kcal/mol\n",
      "Free energy estimated with GCI = -10.0000000051 kcal/mol\n"
     ]
    }
   ],
   "source": [
    "print 'Total analytical free energy = {0} kcal/mol'.format(F)\n",
    "print 'Free energy estimated with GCI = {0} kcal/mol'.format(gci(B,N))"
   ]
  },
  {
   "cell_type": "markdown",
   "metadata": {},
   "source": [
    "## Two sites"
   ]
  },
  {
   "cell_type": "code",
   "execution_count": 6,
   "metadata": {
    "collapsed": false
   },
   "outputs": [
    {
     "data": {
      "image/png": "[encoded data removed]",
      "text/plain": [
       "<matplotlib.figure.Figure at 0x112172190>"
      ]
     },
     "metadata": {},
     "output_type": "display_data"
    }
   ],
   "source": [
    "F1 = -20\n",
    "F2 = -10\n",
    "B = np.linspace(-70,10,100)\n",
    "N = N_twosite(B,F1,F2)\n",
    "\n",
    "plt.plot(B,N,linewidth=2)\n",
    "plt.xlabel('Adams value')\n",
    "plt.ylabel('Average N')\n",
    "plt.show()"
   ]
  },
  {
   "cell_type": "code",
   "execution_count": 7,
   "metadata": {
    "collapsed": false
   },
   "outputs": [
    {
     "name": "stdout",
     "output_type": "stream",
     "text": [
      "Total analytical free energy = -30 kcal/mol\n",
      "Free energy estimated with GCI = -30.0000000401 kcal/mol\n"
     ]
    }
   ],
   "source": [
    "print 'Total analytical free energy = {0} kcal/mol'.format(F1+F2)\n",
    "print 'Free energy estimated with GCI = {0} kcal/mol'.format(gci(B,N))"
   ]
  },
  {
   "cell_type": "markdown",
   "metadata": {},
   "source": [
    "## Three site"
   ]
  },
  {
   "cell_type": "code",
   "execution_count": 8,
   "metadata": {
    "collapsed": false
   },
   "outputs": [
    {
     "data": {
      "image/png": "[encoded data removed]",
      "text/plain": [
       "<matplotlib.figure.Figure at 0x1121cbd90>"
      ]
     },
     "metadata": {},
     "output_type": "display_data"
    }
   ],
   "source": [
    "F1 = -20\n",
    "F2 = -10\n",
    "F3 = -5\n",
    "B = np.linspace(-50,10,100)\n",
    "N = N_threesite(B,F1,F2,F3)\n",
    "\n",
    "plt.plot(B,N,linewidth=2)\n",
    "plt.xlabel('Adams value')\n",
    "plt.ylabel('Average N')\n",
    "plt.show()"
   ]
  },
  {
   "cell_type": "code",
   "execution_count": 9,
   "metadata": {
    "collapsed": false
   },
   "outputs": [
    {
     "name": "stdout",
     "output_type": "stream",
     "text": [
      "Total analytical free energy = -35 kcal/mol\n",
      "Free energy estimated with GCI = -34.9999974843 kcal/mol\n"
     ]
    }
   ],
   "source": [
    "print 'Total analytical free energy = {0} kcal/mol'.format(F1+F2+F3)\n",
    "print 'Free energy estimated with GCI = {0} kcal/mol'.format(gci(B,N))"
   ]
  },
  {
   "cell_type": "markdown",
   "metadata": {},
   "source": [
    "## Four site"
   ]
  },
  {
   "cell_type": "code",
   "execution_count": 10,
   "metadata": {
    "collapsed": false
   },
   "outputs": [
    {
     "data": {
      "image/png": "[encoded data removed]",
      "text/plain": [
       "<matplotlib.figure.Figure at 0x114e14b10>"
      ]
     },
     "metadata": {},
     "output_type": "display_data"
    }
   ],
   "source": [
    "F1 = -30\n",
    "F2 = -23\n",
    "F3 = -17\n",
    "F4 = -10\n",
    "B = np.linspace(-60,0,1000)\n",
    "N = N_nsite(B,4,[F1,F2,F3,F4])\n",
    "#N_pred = interpolate.interp1d(B, N, kind='cubic')\n",
    "plt.plot(B,N,linewidth=2)\n",
    "#plt.plot(B,N_pred(B))\n",
    "plt.xlabel('Adams value')\n",
    "plt.ylabel('Average N')\n",
    "plt.show()"
   ]
  },
  {
   "cell_type": "code",
   "execution_count": 11,
   "metadata": {
    "collapsed": false
   },
   "outputs": [
    {
     "name": "stdout",
     "output_type": "stream",
     "text": [
      "Total analytical free energy = -80 kcal/mol\n",
      "Free energy estimated with GCI = -79.9968085412 kcal/mol\n"
     ]
    }
   ],
   "source": [
    "print 'Total analytical free energy = {0} kcal/mol'.format(F1+F2+F3+F4)\n",
    "print 'Free energy estimated with GCI = {0} kcal/mol'.format(gci(B,N))"
   ]
  },
  {
   "cell_type": "code",
   "execution_count": null,
   "metadata": {
    "collapsed": true
   },
   "outputs": [],
   "source": []
  }
 ],
 "metadata": {
  "kernelspec": {
   "display_name": "Python 2",
   "language": "python",
   "name": "python2"
  },
  "language_info": {
   "codemirror_mode": {
    "name": "ipython",
    "version": 2
   },
   "file_extension": ".py",
   "mimetype": "text/x-python",
   "name": "python",
   "nbconvert_exporter": "python",
   "pygments_lexer": "ipython2",
   "version": "2.7.12"
  }
 },
 "nbformat": 4,
 "nbformat_minor": 0
}
