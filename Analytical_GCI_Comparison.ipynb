{
 "cells": [
  {
   "cell_type": "code",
   "execution_count": 16,
   "metadata": {
    "collapsed": false
   },
   "outputs": [],
   "source": [
    "import sys, os\n",
    "protomshome = os.environ[\"PROTOMSHOME\"]\n",
    "sys.path.append(protomshome +\"/tools\")\n",
    "import calc_gci as cg\n",
    "\n",
    "import numpy as np\n",
    "import matplotlib.pyplot as plt\n",
    "from IPython.display import Image\n",
    "%matplotlib inline\n"
   ]
  },
  {
   "cell_type": "code",
   "execution_count": 171,
   "metadata": {
    "collapsed": false
   },
   "outputs": [],
   "source": [
    "from scipy import integrate\n",
    "from scipy import special\n",
    "from scipy import interpolate\n",
    "\n",
    "def gci(B, N, kT=0.592):\n",
    "    \"\"\"\n",
    "    Calculates the insertion free energy using grand canonical integration for and \n",
    "    input titration curve.\n",
    "\n",
    "    Parameters\n",
    "    ----------\n",
    "    B : numpy array\n",
    "      Adams values\n",
    "    N : numpy array\n",
    "      The average number of particles at a given B\n",
    "    kT : float\n",
    "      the thermal energy\n",
    "\n",
    "    Returns\n",
    "    -------\n",
    "    F : float\n",
    "      relative ideal gas transfer free energies\n",
    "    \"\"\"\n",
    "    def nonintegral(N,B):\n",
    "        return N*B - special.gammaln(N+1)\n",
    "    \n",
    "    def nonintegral_sterling(N,B):\n",
    "        return N*B - N*(np.log(N)-1)\n",
    "    \n",
    "    titration = interpolate.interp1d(B, N, kind='cubic')\n",
    "    \n",
    "    #F = (nonintegral_sterling(N[-1],B[-1]) - nonintegral_sterling(N[0],B[0]) - integrate.quad(titration,a=B[0],b=B[-1])[0])\n",
    "    F = (nonintegral(N[-1],B[-1]) - nonintegral(N[0],B[0]) - integrate.quad(titration,a=B[0],b=B[-1])[0])\n",
    "    F = F*kT\n",
    "    return F\n",
    "\n",
    "\n",
    "def N_onesite(B, F,kT=0.592):\n",
    "    return 1.0/(1 + np.exp(F/kT - B) \n",
    "               )\n",
    "def N_twosite(B,F1,F2,kT=0.592):\n",
    "    numerator = np.exp(B - F1/kT) + 2*np.exp(2*B - (F1 + F2)/kT)\n",
    "    denominator = 1 + np.exp(B - F1/kT) + np.exp(2*B - (F1 + F2)/kT)\n",
    "    return numerator/denominator\n",
    "\n",
    "def N_threesite(B,F1,F2,F3,kT=0.592):\n",
    "    numerator = np.exp(B - F1/kT) + 2*np.exp(2*B - (F1 + F2)/kT) + 3*np.exp(3*B - (F1 + F2 + F3)/kT) \n",
    "    denominator = 1 + np.exp(B - F1/kT) + np.exp(2*B - (F1 + F2)/kT) + np.exp(3*B - (F1 + F2 + F3)/kT) \n",
    "    return numerator/denominator\n",
    "\n",
    "def N_foursite(B,F1,F2,F3,F4,kT=0.592):\n",
    "    numerator = np.exp(B - F1/kT) + 2*np.exp(2*B - (F1 + F2)/kT) + 3*np.exp(3*B - (F1 + F2 + F3)/kT) + + 4*np.exp(4*B - (F1 + F2 + F3 + F4)/kT) \n",
    "    denominator = 1 + np.exp(B - F1/kT) + np.exp(2*B - (F1 + F2)/kT) + np.exp(3*B - (F1 + F2 + F3)/kT) + np.exp(4*B - (F1 + F2 + F3 + F4)/kT) \n",
    "    return numerator/denominator"
   ]
  },
  {
   "cell_type": "markdown",
   "metadata": {},
   "source": [
    "## Single site"
   ]
  },
  {
   "cell_type": "code",
   "execution_count": 172,
   "metadata": {
    "collapsed": false
   },
   "outputs": [
    {
     "data": {
      "image/png": "[encoded data removed]",
      "text/plain": [
       "<matplotlib.figure.Figure at 0x117a21f50>"
      ]
     },
     "metadata": {},
     "output_type": "display_data"
    }
   ],
   "source": [
    "F = -20\n",
    "B = np.linspace(-50,-0,50) \n",
    "N = N_onesite(B,F)\n",
    "\n",
    "plt.plot(B,N)\n",
    "plt.xlabel('Adams value')\n",
    "plt.ylabel('Average N')\n",
    "plt.show()"
   ]
  },
  {
   "cell_type": "code",
   "execution_count": 173,
   "metadata": {
    "collapsed": false
   },
   "outputs": [
    {
     "name": "stdout",
     "output_type": "stream",
     "text": [
      "Total analytical free energy = -20 kcal/mol\n",
      "Free energy estimated with GCI = -19.9999973112 kcal/mol\n"
     ]
    }
   ],
   "source": [
    "print 'Total analytical free energy = {0} kcal/mol'.format(F)\n",
    "print 'Free energy estimated with GCI = {0} kcal/mol'.format(gci(B,N))"
   ]
  },
  {
   "cell_type": "markdown",
   "metadata": {},
   "source": [
    "## Two sites"
   ]
  },
  {
   "cell_type": "code",
   "execution_count": 174,
   "metadata": {
    "collapsed": false
   },
   "outputs": [
    {
     "data": {
      "image/png": "[encoded data removed]",
      "text/plain": [
       "<matplotlib.figure.Figure at 0x11782a850>"
      ]
     },
     "metadata": {},
     "output_type": "display_data"
    }
   ],
   "source": [
    "F1 = -30\n",
    "F2 = -13\n",
    "B = np.linspace(-70,10,100)\n",
    "N = N_twosite(B,F1,F2)\n",
    "\n",
    "plt.plot(B,N)\n",
    "plt.xlabel('Adams value')\n",
    "plt.ylabel('Average N')\n",
    "plt.show()"
   ]
  },
  {
   "cell_type": "code",
   "execution_count": 175,
   "metadata": {
    "collapsed": false
   },
   "outputs": [
    {
     "name": "stdout",
     "output_type": "stream",
     "text": [
      "Total analytical free energy = -43 kcal/mol\n",
      "Free energy estimated with GCI = -43.4103429519 kcal/mol\n"
     ]
    }
   ],
   "source": [
    "print 'Total analytical free energy = {0} kcal/mol'.format(F1+F2)\n",
    "print 'Free energy estimated with GCI = {0} kcal/mol'.format(gci(B,N))"
   ]
  },
  {
   "cell_type": "markdown",
   "metadata": {},
   "source": [
    "## Three site"
   ]
  },
  {
   "cell_type": "code",
   "execution_count": 176,
   "metadata": {
    "collapsed": false
   },
   "outputs": [
    {
     "data": {
      "image/png": "[encoded data removed]",
      "text/plain": [
       "<matplotlib.figure.Figure at 0x1175f2710>"
      ]
     },
     "metadata": {},
     "output_type": "display_data"
    }
   ],
   "source": [
    "F1 = -20\n",
    "F2 = -10\n",
    "F3 = -1\n",
    "B = np.linspace(-50,10,100)\n",
    "N = N_threesite(B,F1,F2,F3)\n",
    "\n",
    "plt.plot(B,N)\n",
    "plt.xlabel('Adams value')\n",
    "plt.ylabel('Average N')\n",
    "plt.show()"
   ]
  },
  {
   "cell_type": "code",
   "execution_count": 177,
   "metadata": {
    "collapsed": false
   },
   "outputs": [
    {
     "name": "stdout",
     "output_type": "stream",
     "text": [
      "Total analytical free energy = -31 kcal/mol\n",
      "Free energy estimated with GCI = -32.060767255 kcal/mol\n"
     ]
    }
   ],
   "source": [
    "print 'Total analytical free energy = {0} kcal/mol'.format(F1+F2+F3)\n",
    "print 'Free energy estimated with GCI = {0} kcal/mol'.format(gci(B,N))"
   ]
  },
  {
   "cell_type": "markdown",
   "metadata": {},
   "source": [
    "## Four site"
   ]
  },
  {
   "cell_type": "code",
   "execution_count": 178,
   "metadata": {
    "collapsed": false
   },
   "outputs": [
    {
     "data": {
      "image/png": "[encoded data removed]",
      "text/plain": [
       "<matplotlib.figure.Figure at 0x1174f5d50>"
      ]
     },
     "metadata": {},
     "output_type": "display_data"
    }
   ],
   "source": [
    "F1 = -30\n",
    "F2 = -30\n",
    "F3 = -17\n",
    "F4 = -17\n",
    "B = np.linspace(-60,0,1000)\n",
    "N = N_threesite(B,F1,F2,F3)\n",
    "N_pred = interpolate.interp1d(B, N, kind='cubic')\n",
    "plt.plot(B,N)\n",
    "plt.plot(B,N_pred(B))\n",
    "plt.xlabel('Adams value')\n",
    "plt.ylabel('Average N')\n",
    "plt.show()"
   ]
  },
  {
   "cell_type": "code",
   "execution_count": 179,
   "metadata": {
    "collapsed": false
   },
   "outputs": [
    {
     "name": "stdout",
     "output_type": "stream",
     "text": [
      "Total analytical free energy = -94 kcal/mol\n",
      "Free energy estimated with GCI = -78.0575296335 kcal/mol\n"
     ]
    }
   ],
   "source": [
    "print 'Total analytical free energy = {0} kcal/mol'.format(F1+F2+F3+F4)\n",
    "print 'Free energy estimated with GCI = {0} kcal/mol'.format(gci(B,N))"
   ]
  },
  {
   "cell_type": "code",
   "execution_count": 180,
   "metadata": {
    "collapsed": true
   },
   "outputs": [],
   "source": [
    "x = [0,0.41,]"
   ]
  },
  {
   "cell_type": "code",
   "execution_count": null,
   "metadata": {
    "collapsed": true
   },
   "outputs": [],
   "source": []
  },
  {
   "cell_type": "code",
   "execution_count": null,
   "metadata": {
    "collapsed": true
   },
   "outputs": [],
   "source": []
  }
 ],
 "metadata": {
  "kernelspec": {
   "display_name": "Python 2",
   "language": "python",
   "name": "python2"
  },
  "language_info": {
   "codemirror_mode": {
    "name": "ipython",
    "version": 2
   },
   "file_extension": ".py",
   "mimetype": "text/x-python",
   "name": "python",
   "nbconvert_exporter": "python",
   "pygments_lexer": "ipython2",
   "version": "2.7.11"
  }
 },
 "nbformat": 4,
 "nbformat_minor": 0
}
