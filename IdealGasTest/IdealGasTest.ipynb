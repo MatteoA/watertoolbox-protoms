{
 "cells": [
  {
   "cell_type": "code",
   "execution_count": 11,
   "metadata": {
    "collapsed": false
   },
   "outputs": [],
   "source": [
    "import numpy as np\n",
    "import glob\n",
    "import os, sys\n",
    "protomshome = os.environ[\"PROTOMSHOME\"]\n",
    "sys.path.append(protomshome +\"/tools\")\n",
    "from simulationobjects import ResultsFile\n",
    "import matplotlib.pyplot as plt\n",
    "%matplotlib inline\n",
    "#from IPython.display import Image"
   ]
  },
  {
   "cell_type": "markdown",
   "metadata": {},
   "source": [
    "# GCMC statistics for ideal gas\n",
    "A test to ensure that `ProtoMS` correctly samples the grand canonical ensemble by using insertion probabilities of ideal gas as a test case."
   ]
  },
  {
   "cell_type": "code",
   "execution_count": 23,
   "metadata": {
    "collapsed": false
   },
   "outputs": [
    {
     "name": "stdout",
     "output_type": "stream",
     "text": [
      "\n",
      "...GCMC data has been read.\n"
     ]
    }
   ],
   "source": [
    "directories = ['out2','out1','out0','out-1','out-2','out-3','out-4']\n",
    "skip = 200\n",
    "N_inst = []\n",
    "N_mean = []\n",
    "B = []\n",
    "\n",
    "for dirs in directories:\n",
    "    folders =  glob.glob(dirs)\n",
    "    if len(folders)==0:\n",
    "        print \"\\nError. No folder(s) matching '%s'. Exiting program.\\n\" % directories\n",
    "        break\n",
    "    for folder in folders:\n",
    "        results = ResultsFile()\n",
    "        resultsfiles = glob.glob(folder+ \"/\"+'results'+\"*\")\n",
    "        if len(resultsfiles) > 1: # It is assumed the results are from ProtoMS 2.\n",
    "            results.read([folder,'results'])\n",
    "        elif len(resultsfiles)==1: # It is assumed the results are from ProtoMS 3.\n",
    "            results.read(folder+ \"/\"+'results')\n",
    "        else:\n",
    "            print \"\\nError. No results file matching %s. Exiting program\\n\" % folder+\"/\"+'results'\n",
    "            break\n",
    "        solventson = np.array([snap.solventson for snap in results.snapshots])# Counting how many molecules have been inserted.\n",
    "        N_inst.append(solventson)\n",
    "        mean_on = np.mean(solventson[skip:solventson.size])\n",
    "        N_mean.append(mean_on)\n",
    "        adams = np.array([snap.bvalue for snap in results.snapshots])# Recording the B-value for each window (should be constant, but averaging just in case).\n",
    "        mean_adams = np.mean(adams[(skip-1):adams.size])\n",
    "        B.append(mean_adams)\n",
    "print \"\\n...GCMC data has been read.\"\n",
    "\n",
    "  # Checking to make sure the data makes sense.\n",
    "N_mean = np.array(N_mean)\n",
    "B = np.array(B)"
   ]
  },
  {
   "cell_type": "code",
   "execution_count": 24,
   "metadata": {
    "collapsed": false
   },
   "outputs": [
    {
     "data": {
      "text/plain": [
       "array([ 34.4047619 ,  21.63666667,  13.49333333,   8.15333333,\n",
       "         5.16      ,   2.84666667,   1.66      ])"
      ]
     },
     "execution_count": 24,
     "metadata": {},
     "output_type": "execute_result"
    }
   ],
   "source": [
    "N_mean"
   ]
  },
  {
   "cell_type": "code",
   "execution_count": 40,
   "metadata": {
    "collapsed": false
   },
   "outputs": [
    {
     "data": {
      "image/png": "[encoded data removed]",
      "text/plain": [
       "<matplotlib.figure.Figure at 0x112bcfd90>"
      ]
     },
     "metadata": {},
     "output_type": "display_data"
    }
   ],
   "source": [
    "plt.scatter(B,np.log(N_mean))\n",
    "plt.plot(B,B,color='red')\n",
    "plt.xlabel('Adams value')\n",
    "plt.ylabel('Log of average number')\n",
    "plt.legend(('Theory','ProtoMS'),loc=4)\n",
    "plt.show()"
   ]
  },
  {
   "cell_type": "code",
   "execution_count": 29,
   "metadata": {
    "collapsed": false
   },
   "outputs": [
    {
     "data": {
      "text/plain": [
       "array([ 3.53819498,  3.07438941,  2.60219574,  2.09842684,  1.64093658,\n",
       "        1.04614872,  0.5068176 ])"
      ]
     },
     "execution_count": 29,
     "metadata": {},
     "output_type": "execute_result"
    }
   ],
   "source": [
    "np.log(N_mean)"
   ]
  },
  {
   "cell_type": "code",
   "execution_count": null,
   "metadata": {
    "collapsed": true
   },
   "outputs": [],
   "source": []
  }
 ],
 "metadata": {
  "kernelspec": {
   "display_name": "Python 2",
   "language": "python",
   "name": "python2"
  },
  "language_info": {
   "codemirror_mode": {
    "name": "ipython",
    "version": 2
   },
   "file_extension": ".py",
   "mimetype": "text/x-python",
   "name": "python",
   "nbconvert_exporter": "python",
   "pygments_lexer": "ipython2",
   "version": "2.7.12"
  }
 },
 "nbformat": 4,
 "nbformat_minor": 0
}
