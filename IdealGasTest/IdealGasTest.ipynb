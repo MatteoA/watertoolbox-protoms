{
 "cells": [
  {
   "cell_type": "code",
   "execution_count": 2,
   "metadata": {
    "collapsed": false
   },
   "outputs": [],
   "source": [
    "import numpy as np\n",
    "import glob\n",
    "import os, sys\n",
    "protomshome = os.environ[\"PROTOMSHOME\"]\n",
    "sys.path.append(protomshome +\"/tools\")\n",
    "from simulationobjects import ResultsFile\n",
    "import matplotlib.pyplot as plt\n",
    "%matplotlib inline\n"
   ]
  },
  {
   "cell_type": "markdown",
   "metadata": {},
   "source": [
    "# GCMC statistics for ideal gas\n",
    "An analysis of `ProtoMS` simulations where ideal gas particles are insterted and deleted into a volume. This notebook compares theoretical values for the average number of ideal gas particles with those obtained via simulation.\n",
    "\n",
    "The average number of dummy particles in the GCMC volume, denoted $N$, should be given by\n",
    "\n",
    "$$ \\ln(N) = B $$\n",
    "\n",
    "where $B$ is the applied Adams value. GCMC simulations of dummy particles at different values of $B$ should produce results in agreement with the above."
   ]
  },
  {
   "cell_type": "markdown",
   "metadata": {},
   "source": [
    "Reading in the simulation data:"
   ]
  },
  {
   "cell_type": "code",
   "execution_count": 3,
   "metadata": {
    "collapsed": false
   },
   "outputs": [
    {
     "name": "stdout",
     "output_type": "stream",
     "text": [
      "\n",
      "...GCMC data has been read.\n"
     ]
    }
   ],
   "source": [
    "directories = ['out+2','out+1','out0','out-1','out-2','out-3','out-4','out-4']\n",
    "skip = 200\n",
    "N_inst = []\n",
    "N_mean = []\n",
    "B = []\n",
    "\n",
    "for dirs in directories:\n",
    "    folders =  glob.glob(dirs)\n",
    "    if len(folders)==0:\n",
    "        print \"\\nError. No folder(s) matching '%s'. Exiting program.\\n\" % directories\n",
    "        break\n",
    "    for folder in folders:\n",
    "        results = ResultsFile()\n",
    "        resultsfiles = glob.glob(folder+ \"/\"+'results'+\"*\")\n",
    "        if len(resultsfiles) > 1: # It is assumed the results are from ProtoMS 2.\n",
    "            results.read([folder,'results'])\n",
    "        elif len(resultsfiles)==1: # It is assumed the results are from ProtoMS 3.\n",
    "            results.read(folder+ \"/\"+'results')\n",
    "        else:\n",
    "            print \"\\nError. No results file matching %s. Exiting program\\n\" % folder+\"/\"+'results'\n",
    "            break\n",
    "        solventson = np.array([snap.solventson for snap in results.snapshots])# Counting how many molecules have been inserted.\n",
    "        N_inst.append(solventson)\n",
    "        mean_on = np.mean(solventson[skip:solventson.size])\n",
    "        N_mean.append(mean_on)\n",
    "        adams = np.array([snap.bvalue for snap in results.snapshots])# Recording the B-value for each window (should be constant, but averaging just in case).\n",
    "        mean_adams = np.mean(adams[(skip-1):adams.size])\n",
    "        B.append(mean_adams)\n",
    "print \"\\n...GCMC data has been read.\"\n",
    "\n",
    "  # Checking to make sure the data makes sense.\n",
    "N_mean = np.array(N_mean)\n",
    "B = np.array(B)"
   ]
  },
  {
   "cell_type": "markdown",
   "metadata": {},
   "source": [
    "Ploting the average number of inserted dummy particles as a function of $B$. The simulation data is in blue, and they should line up with the $y=x$ in red."
   ]
  },
  {
   "cell_type": "code",
   "execution_count": 5,
   "metadata": {
    "collapsed": false
   },
   "outputs": [
    {
     "data": {
      "image/png": "[encoded data removed]",
      "text/plain": [
       "<matplotlib.figure.Figure at 0x1110f5cd0>"
      ]
     },
     "metadata": {},
     "output_type": "display_data"
    }
   ],
   "source": [
    "plt.scatter(B,np.log(N_mean))\n",
    "plt.plot(B,B,color='red')\n",
    "plt.xlabel('Adams value')\n",
    "plt.ylabel('Log of average number')\n",
    "plt.legend(('Theory','ProtoMS'),loc=4)\n",
    "plt.grid()\n",
    "plt.show()"
   ]
  },
  {
   "cell_type": "markdown",
   "metadata": {
    "collapsed": true
   },
   "source": [
    "The deviation of the simulation data from theory is probably due to the warning\n",
    "```\n",
    " No spare gcsolutes to insert. This will bias your simulation results.\n",
    "```\n",
    "despite the fact that there are indeed spare solutes to insert. Looks like a bug."
   ]
  },
  {
   "cell_type": "code",
   "execution_count": null,
   "metadata": {
    "collapsed": true
   },
   "outputs": [],
   "source": []
  }
 ],
 "metadata": {
  "kernelspec": {
   "display_name": "Python 2",
   "language": "python",
   "name": "python2"
  },
  "language_info": {
   "codemirror_mode": {
    "name": "ipython",
    "version": 2
   },
   "file_extension": ".py",
   "mimetype": "text/x-python",
   "name": "python",
   "nbconvert_exporter": "python",
   "pygments_lexer": "ipython2",
   "version": "2.7.11"
  }
 },
 "nbformat": 4,
 "nbformat_minor": 0
}
